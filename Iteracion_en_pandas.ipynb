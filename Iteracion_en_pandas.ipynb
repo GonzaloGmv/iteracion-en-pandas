{
  "nbformat": 4,
  "nbformat_minor": 0,
  "metadata": {
    "colab": {
      "provenance": [],
      "authorship_tag": "ABX9TyPN+Pk9mpHxXyXiCUaEmBQk",
      "include_colab_link": true
    },
    "kernelspec": {
      "name": "python3",
      "display_name": "Python 3"
    },
    "language_info": {
      "name": "python"
    }
  },
  "cells": [
    {
      "cell_type": "markdown",
      "metadata": {
        "id": "view-in-github",
        "colab_type": "text"
      },
      "source": [
        "<a href=\"https://colab.research.google.com/github/GonzaloGmv/iteracion-en-pandas/blob/main/Iteracion_en_pandas.ipynb\" target=\"_parent\"><img src=\"https://colab.research.google.com/assets/colab-badge.svg\" alt=\"Open In Colab\"/></a>"
      ]
    },
    {
      "cell_type": "markdown",
      "source": [
        "### Importamos la librería pandas y cargamos el csv como un dataframe."
      ],
      "metadata": {
        "id": "qC1Yo19TqZie"
      }
    },
    {
      "cell_type": "code",
      "execution_count": 1,
      "metadata": {
        "id": "79fxnvaKqWY2"
      },
      "outputs": [],
      "source": [
        "import pandas as pd\n",
        "import numpy as np\n",
        "\n",
        "df = pd.read_csv('Pokemon.csv')"
      ]
    },
    {
      "cell_type": "markdown",
      "source": [
        "### Primer método: Iterrows"
      ],
      "metadata": {
        "id": "JgN_MXveqq0g"
      }
    },
    {
      "cell_type": "code",
      "source": [
        "%%timeit -n 10\n",
        "total = []\n",
        "for index, row in df.iterrows():\n",
        "    total.append(row['Attack'] + row['Defense'])"
      ],
      "metadata": {
        "id": "-MRykGt8qtFb"
      },
      "execution_count": 4,
      "outputs": []
    },
    {
      "cell_type": "markdown",
      "source": [
        "### Segundo método: Bucle for con .iloc"
      ],
      "metadata": {
        "id": "fr8SuPZGq0NY"
      }
    },
    {
      "cell_type": "code",
      "source": [
        "%%timeit -n 10\n",
        "for index in range(len(df)):\n",
        "    total.append(df['Attack'].iloc[index] + df['Defense'].iloc[index])"
      ],
      "metadata": {
        "colab": {
          "base_uri": "https://localhost:8080/"
        },
        "id": "dMu2ZHZGqu0J",
        "outputId": "bacb3b14-544b-4d7a-966d-0f941dbe7d1e"
      },
      "execution_count": 5,
      "outputs": [
        {
          "output_type": "stream",
          "name": "stdout",
          "text": [
            "14.5 ms ± 533 µs per loop (mean ± std. dev. of 7 runs, 10 loops each)\n"
          ]
        }
      ]
    },
    {
      "cell_type": "markdown",
      "source": [
        "### Tercer método: Aplicar"
      ],
      "metadata": {
        "id": "MA8DI-rutM88"
      }
    },
    {
      "cell_type": "code",
      "source": [
        "%%timeit -n 10\n",
        "df.apply(lambda row: row['Attack'] + row['Defense'], axis=1).to_list()"
      ],
      "metadata": {
        "id": "rXObIX3krLWk"
      },
      "execution_count": null,
      "outputs": []
    },
    {
      "cell_type": "markdown",
      "source": [
        "### Cuarto método:  Itertuplica"
      ],
      "metadata": {
        "id": "_Jm7fjMktk2N"
      }
    },
    {
      "cell_type": "code",
      "source": [
        "%%timeit -n 10\n",
        "for row in df.itertuples():\n",
        "    total.append(row.Attack + row.Defense)"
      ],
      "metadata": {
        "id": "Y5hyN5nYt_DE"
      },
      "execution_count": null,
      "outputs": []
    },
    {
      "cell_type": "markdown",
      "source": [
        "### Quinto método: Comprensión de listas"
      ],
      "metadata": {
        "id": "Lq7Pwm6ato9P"
      }
    },
    {
      "cell_type": "code",
      "source": [
        "%%timeit -n 100\n",
        "[atk + defense for atk, defense in zip(df['Attack'], df['Defense'])]"
      ],
      "metadata": {
        "id": "oQetUSp1unLZ"
      },
      "execution_count": null,
      "outputs": []
    },
    {
      "cell_type": "markdown",
      "source": [
        "### Sexto método: Vectorización de pandas"
      ],
      "metadata": {
        "id": "8vDMpH8bto52"
      }
    },
    {
      "cell_type": "code",
      "source": [
        "%%timeit -n 1000\n",
        "(df['Attack'] + df['Defense']).to_list()"
      ],
      "metadata": {
        "id": "80ju3u1iu5iM"
      },
      "execution_count": null,
      "outputs": []
    },
    {
      "cell_type": "markdown",
      "source": [
        "### Séptimo método: Vectorización de numpy\n"
      ],
      "metadata": {
        "id": "0hgu9asktovS"
      }
    },
    {
      "cell_type": "code",
      "source": [
        "%%timeit -n 1000\n",
        "(df['Attack'].to_numpy() + df['Defense'].to_numpy()).tolist()"
      ],
      "metadata": {
        "id": "8Isgxh8Itny1"
      },
      "execution_count": null,
      "outputs": []
    },
    {
      "cell_type": "markdown",
      "source": [
        "### Comparación\n",
        "Como podemos ver los primeros cinco métodos son muy lentos en comparación con los métodos de vectorización con pandas y numpy. Ya que el método más rápido de los cinco primeros es el de \"Comprensión de listas\", que  es 200 veces más rápido que el de Iterrows; mientras que los métodos de vectorización con pandas y numpy son 1500 y 1900 veces más rápidos que el de Iterrows."
      ],
      "metadata": {
        "id": "fKy3_ASWvYHk"
      }
    }
  ]
}
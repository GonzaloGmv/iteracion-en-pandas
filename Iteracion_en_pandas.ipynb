{
  "nbformat": 4,
  "nbformat_minor": 0,
  "metadata": {
    "colab": {
      "provenance": [],
      "authorship_tag": "ABX9TyM1hoIGjitMNNZYodtsgUNU",
      "include_colab_link": true
    },
    "kernelspec": {
      "name": "python3",
      "display_name": "Python 3"
    },
    "language_info": {
      "name": "python"
    }
  },
  "cells": [
    {
      "cell_type": "markdown",
      "metadata": {
        "id": "view-in-github",
        "colab_type": "text"
      },
      "source": [
        "<a href=\"https://colab.research.google.com/github/GonzaloGmv/iteracion-en-pandas/blob/main/Iteracion_en_pandas.ipynb\" target=\"_parent\"><img src=\"https://colab.research.google.com/assets/colab-badge.svg\" alt=\"Open In Colab\"/></a>"
      ]
    },
    {
      "cell_type": "markdown",
      "source": [
        "### Importamos la librería pandas y cargamos el csv como un dataframe."
      ],
      "metadata": {
        "id": "qC1Yo19TqZie"
      }
    },
    {
      "cell_type": "code",
      "execution_count": 1,
      "metadata": {
        "id": "79fxnvaKqWY2"
      },
      "outputs": [],
      "source": [
        "import pandas as pd\n",
        "import numpy as np\n",
        "\n",
        "df = pd.read_csv('Pokemon.csv')"
      ]
    },
    {
      "cell_type": "markdown",
      "source": [
        "### Primer método: Iterrows"
      ],
      "metadata": {
        "id": "JgN_MXveqq0g"
      }
    },
    {
      "cell_type": "code",
      "source": [
        "%%timeit -n 100\n",
        "total = []\n",
        "for index, row in df.iterrows():\n",
        "    total.append(row['Attack'] + row['Defense'])"
      ],
      "metadata": {
        "colab": {
          "base_uri": "https://localhost:8080/"
        },
        "id": "-MRykGt8qtFb",
        "outputId": "03022095-ff10-468a-ae4d-f3998e416471"
      },
      "execution_count": 32,
      "outputs": [
        {
          "output_type": "stream",
          "name": "stdout",
          "text": [
            "40 ms ± 5.32 ms per loop (mean ± std. dev. of 7 runs, 100 loops each)\n"
          ]
        }
      ]
    },
    {
      "cell_type": "markdown",
      "source": [
        "### Segundo método: Bucle for con .iloc"
      ],
      "metadata": {
        "id": "fr8SuPZGq0NY"
      }
    },
    {
      "cell_type": "code",
      "source": [
        "%%timeit -n 100\n",
        "for index in range(len(df)):\n",
        "    total.append(df['Attack'].iloc[index] + df['Defense'].iloc[index])"
      ],
      "metadata": {
        "colab": {
          "base_uri": "https://localhost:8080/"
        },
        "id": "dMu2ZHZGqu0J",
        "outputId": "0486d20f-016f-4f59-b4a0-d990ea5a52af"
      },
      "execution_count": 33,
      "outputs": [
        {
          "output_type": "stream",
          "name": "stdout",
          "text": [
            "14.6 ms ± 1.94 ms per loop (mean ± std. dev. of 7 runs, 100 loops each)\n"
          ]
        }
      ]
    },
    {
      "cell_type": "markdown",
      "source": [
        "### Tercer método: Aplicar"
      ],
      "metadata": {
        "id": "MA8DI-rutM88"
      }
    },
    {
      "cell_type": "code",
      "source": [
        "%%timeit -n 100\n",
        "df.apply(lambda row: row['Attack'] + row['Defense'], axis=1).to_list()"
      ],
      "metadata": {
        "colab": {
          "base_uri": "https://localhost:8080/"
        },
        "id": "rXObIX3krLWk",
        "outputId": "322f73a1-bb08-4d84-9261-7213bb0124a1"
      },
      "execution_count": 34,
      "outputs": [
        {
          "output_type": "stream",
          "name": "stdout",
          "text": [
            "9.32 ms ± 2.7 ms per loop (mean ± std. dev. of 7 runs, 100 loops each)\n"
          ]
        }
      ]
    },
    {
      "cell_type": "markdown",
      "source": [
        "### Cuarto método:  Itertuplica"
      ],
      "metadata": {
        "id": "_Jm7fjMktk2N"
      }
    },
    {
      "cell_type": "code",
      "source": [
        "%%timeit -n 100\n",
        "for row in df.itertuples():\n",
        "    total.append(row.Attack + row.Defense)"
      ],
      "metadata": {
        "colab": {
          "base_uri": "https://localhost:8080/"
        },
        "id": "Y5hyN5nYt_DE",
        "outputId": "b839c43f-4229-4356-fa81-2d5a36b04504"
      },
      "execution_count": 35,
      "outputs": [
        {
          "output_type": "stream",
          "name": "stdout",
          "text": [
            "2.05 ms ± 48.7 µs per loop (mean ± std. dev. of 7 runs, 100 loops each)\n"
          ]
        }
      ]
    },
    {
      "cell_type": "markdown",
      "source": [
        "### Quinto método: Comprensión de listas"
      ],
      "metadata": {
        "id": "Lq7Pwm6ato9P"
      }
    },
    {
      "cell_type": "code",
      "source": [
        "%%timeit -n 100\n",
        "[atk + defense for atk, defense in zip(df['Attack'], df['Defense'])]"
      ],
      "metadata": {
        "colab": {
          "base_uri": "https://localhost:8080/"
        },
        "id": "oQetUSp1unLZ",
        "outputId": "d92cd183-cb85-4694-ad1a-1026c518d709"
      },
      "execution_count": 36,
      "outputs": [
        {
          "output_type": "stream",
          "name": "stdout",
          "text": [
            "211 µs ± 43.4 µs per loop (mean ± std. dev. of 7 runs, 100 loops each)\n"
          ]
        }
      ]
    },
    {
      "cell_type": "markdown",
      "source": [
        "### Sexto método: Vectorización de pandas"
      ],
      "metadata": {
        "id": "8vDMpH8bto52"
      }
    },
    {
      "cell_type": "code",
      "source": [
        "%%timeit -n 1000\n",
        "(df['Attack'] + df['Defense']).to_list()"
      ],
      "metadata": {
        "colab": {
          "base_uri": "https://localhost:8080/"
        },
        "id": "80ju3u1iu5iM",
        "outputId": "f822ae38-427f-4f43-ab27-8c97f213598a"
      },
      "execution_count": 30,
      "outputs": [
        {
          "output_type": "stream",
          "name": "stdout",
          "text": [
            "134 µs ± 27 µs per loop (mean ± std. dev. of 7 runs, 1000 loops each)\n"
          ]
        }
      ]
    },
    {
      "cell_type": "markdown",
      "source": [
        "### Séptimo método: Vectorización de numpy\n"
      ],
      "metadata": {
        "id": "0hgu9asktovS"
      }
    },
    {
      "cell_type": "code",
      "source": [
        "%%timeit -n 1000\n",
        "(df['Attack'].to_numpy() + df['Defense'].to_numpy()).tolist()"
      ],
      "metadata": {
        "colab": {
          "base_uri": "https://localhost:8080/"
        },
        "id": "8Isgxh8Itny1",
        "outputId": "37061e27-e331-4f35-8b21-1273e4228666"
      },
      "execution_count": 37,
      "outputs": [
        {
          "output_type": "stream",
          "name": "stdout",
          "text": [
            "21.2 µs ± 2.53 µs per loop (mean ± std. dev. of 7 runs, 1000 loops each)\n"
          ]
        }
      ]
    },
    {
      "cell_type": "markdown",
      "source": [
        "### Comparación\n",
        "Como podemos ver los primeros cinco métodos son muy lentos en comparación con los métodos de vectorización con pandas y numpy. Ya que el método más rápido de los cinco primeros es el de \"Comprensión de listas\", que  es 200 veces más rápido que el de Iterrows; mientras que los métodos de vectorización con pandas y numpy son 1500 y 1900 veces más rápidos que el de Iterrows."
      ],
      "metadata": {
        "id": "fKy3_ASWvYHk"
      }
    },
    {
      "cell_type": "code",
      "source": [],
      "metadata": {
        "id": "uDZExqkSyf_S"
      },
      "execution_count": null,
      "outputs": []
    }
  ]
}